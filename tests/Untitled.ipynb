{
 "cells": [
  {
   "cell_type": "code",
   "execution_count": 1,
   "id": "dca24caf-35fc-4358-b5f4-3191a5d63f81",
   "metadata": {},
   "outputs": [],
   "source": [
    "from premise import *\n",
    "import bw2data\n",
    "from datapackage import Package"
   ]
  },
  {
   "cell_type": "code",
   "execution_count": 2,
   "id": "b361ec2f-6b43-40a9-8b4c-3ec96322f750",
   "metadata": {},
   "outputs": [],
   "source": [
    "bw2data.projects.set_current(\"ecoinvent-3.9.1-cutoff\")"
   ]
  },
  {
   "cell_type": "code",
   "execution_count": 3,
   "id": "44be565a-8e58-4916-aad0-d2b409212e58",
   "metadata": {},
   "outputs": [],
   "source": [
    "fp = \"../datapackage.json\"\n",
    "# read the data package\n",
    "h2 = Package(fp)"
   ]
  },
  {
   "cell_type": "code",
   "execution_count": 4,
   "id": "5aab7adb-b252-4ffc-85f8-4f71571a47e3",
   "metadata": {},
   "outputs": [
    {
     "name": "stdout",
     "output_type": "stream",
     "text": [
      "premise requires the name of your biosphere database.\n",
      "Please enter the name of your biosphere database as it appears in your project.\n",
      "Databases dictionary with 10 object(s):\n",
      "\tecoinvent-3.9.1-biosphere\n",
      "\tecoinvent-3.9.1-cutoff\n",
      "\tei_cutoff_3.9_remind_SSP2-PkBudg1150_2025_Ambitious 2024-08-25\n",
      "\timage - SSP1-Base - 2025\n",
      "\tremind - SSP1-NDC - 2030\n",
      "\tsuper_db_25-08-2024\n",
      "\ttest 2\n",
      "\ttest 3\n",
      "\ttest1\n",
      "\ttest2\n"
     ]
    },
    {
     "name": "stdin",
     "output_type": "stream",
     "text": [
      "Name of the biosphere database:  ecoinvent-3.9.1-biosphere\n"
     ]
    },
    {
     "name": "stdout",
     "output_type": "stream",
     "text": [
      "premise v.(2, 1, 3)\n",
      "+------------------------------------------------------------------+\n",
      "| Warning                                                          |\n",
      "+------------------------------------------------------------------+\n",
      "| Because some of the scenarios can yield LCI databases            |\n",
      "| containing net negative emission technologies (NET),             |\n",
      "| it is advised to account for biogenic CO2 flows when calculating |\n",
      "| Global Warming potential indicators.                             |\n",
      "| `premise_gwp` provides characterization factors for such flows.  |\n",
      "| It also provides factors for hydrogen emissions to air.          |\n",
      "|                                                                  |\n",
      "| Within your bw2 project:                                         |\n",
      "| from premise_gwp import add_premise_gwp                          |\n",
      "| add_premise_gwp()                                                |\n",
      "+------------------------------------------------------------------+\n",
      "+--------------------------------+----------------------------------+\n",
      "| Utils functions                | Description                      |\n",
      "+--------------------------------+----------------------------------+\n",
      "| clear_cache()                  | Clears the cache folder. Useful  |\n",
      "|                                | when updating `premise`or        |\n",
      "|                                | encountering issues with         |\n",
      "|                                | inventories.                     |\n",
      "+--------------------------------+----------------------------------+\n",
      "| get_regions_definition(model)  | Retrieves the list of countries  |\n",
      "|                                | for each region of the model.    |\n",
      "+--------------------------------+----------------------------------+\n",
      "| ndb.NewDatabase(...)           | Generates a summary of the most  |\n",
      "| ndb.generate_scenario_report() | important scenarios' variables.  |\n",
      "+--------------------------------+----------------------------------+\n",
      "Keep uncertainty data?\n",
      "NewDatabase(..., keep_source_db_uncertainty=True), keep_imports_uncertainty=True)\n",
      "\n",
      "Hide these messages?\n",
      "NewDatabase(..., quiet=True)\n",
      "- Extracting source database\n",
      "- Extracting inventories\n",
      "- Fetching IAM data\n",
      "Done!\n"
     ]
    }
   ],
   "source": [
    "ndb = NewDatabase(\n",
    "    scenarios = [\n",
    "        {\"model\":\"remind\", \"pathway\":\"SSP2-NDC\", \"year\":2050, \"external scenarios\": [{\"scenario\": \"Business as usual\", \"data\": h2}]},\n",
    "        {\"model\":\"remind\", \"pathway\":\"SSP2-PkBudg1150\", \"year\":2050, \"external scenarios\": [{\"scenario\": \"Ambitious\", \"data\": h2}]},\n",
    "        {\"model\":\"remind\", \"pathway\":\"SSP1-PkBudg500\", \"year\":2050, \"external scenarios\": [{\"scenario\": \"Very ambitious\", \"data\": h2}]},\n",
    "    ],        \n",
    "    source_db=\"ecoinvent-3.9.1-cutoff\",\n",
    "    source_version=\"3.9\",\n",
    "    key='tUePmX_S5B8ieZkkM7WUU2CnO8SmShwmAeWK9x2rTFo=',\n",
    ")"
   ]
  },
  {
   "cell_type": "code",
   "execution_count": 5,
   "id": "570e9749-d74d-4cbb-8f8f-9c65aed69e1f",
   "metadata": {},
   "outputs": [
    {
     "name": "stderr",
     "output_type": "stream",
     "text": [
      "Processing scenarios:   0%|                     | 0/3 [00:00<?, ?it/s]"
     ]
    },
    {
     "name": "stdout",
     "output_type": "stream",
     "text": [
      "Extracted 1 worksheets in 0.19 seconds\n",
      "Applying strategy: migrate_datasets\n",
      "Applying strategy: migrate_exchanges\n"
     ]
    },
    {
     "name": "stderr",
     "output_type": "stream",
     "text": [
      "Processing scenarios:  33%|████▎        | 1/3 [01:15<02:30, 75.21s/it]"
     ]
    },
    {
     "name": "stdout",
     "output_type": "stream",
     "text": [
      "Extracted 1 worksheets in 0.19 seconds\n",
      "Applying strategy: migrate_datasets\n",
      "Applying strategy: migrate_exchanges\n"
     ]
    },
    {
     "name": "stderr",
     "output_type": "stream",
     "text": [
      "Processing scenarios:  67%|████████▋    | 2/3 [02:30<01:15, 75.05s/it]"
     ]
    },
    {
     "name": "stdout",
     "output_type": "stream",
     "text": [
      "Extracted 1 worksheets in 0.20 seconds\n",
      "Applying strategy: migrate_datasets\n",
      "Applying strategy: migrate_exchanges\n"
     ]
    },
    {
     "name": "stderr",
     "output_type": "stream",
     "text": [
      "Processing scenarios: 100%|█████████████| 3/3 [03:45<00:00, 75.15s/it]"
     ]
    },
    {
     "name": "stdout",
     "output_type": "stream",
     "text": [
      "Done!\n",
      "\n"
     ]
    },
    {
     "name": "stderr",
     "output_type": "stream",
     "text": [
      "\n"
     ]
    }
   ],
   "source": [
    "ndb.update()"
   ]
  },
  {
   "cell_type": "code",
   "execution_count": 6,
   "id": "65e0b5e2-d6e3-48d6-be61-0bcd57d87948",
   "metadata": {},
   "outputs": [
    {
     "name": "stdout",
     "output_type": "stream",
     "text": [
      "Running all checks...\n",
      "Minor anomalies found: check the change report.\n",
      "Running all checks...\n",
      "Minor anomalies found: check the change report.\n",
      "Running all checks...\n",
      "Minor anomalies found: check the change report.\n",
      "Building superstructure database...\n",
      "Dropped 18730 duplicate(s).\n",
      "Scenario difference file exported to /Users/romain/GitHub/hydrogen-prospective-scenarios/tests/export/scenario diff files!\n",
      "Running all checks...\n",
      "Minor anomalies found: check the change report.\n"
     ]
    },
    {
     "name": "stderr",
     "output_type": "stream",
     "text": [
      "Writing activities to SQLite3 database:\n",
      "0% [##############################] 100% | ETA: 00:00:00\n",
      "Total time elapsed: 00:00:27\n"
     ]
    },
    {
     "name": "stdout",
     "output_type": "stream",
     "text": [
      "Title: Writing activities to SQLite3 database:\n",
      "  Started: 09/09/2024 18:41:44\n",
      "  Finished: 09/09/2024 18:42:12\n",
      "  Total time elapsed: 00:00:27\n",
      "  CPU %: 88.50\n",
      "  Memory %: 17.87\n",
      "Created database: super_db_09-09-2024\n",
      "Generate scenario report.\n",
      "Report saved under /Users/romain/GitHub/hydrogen-prospective-scenarios/tests/export/scenario_report.\n",
      "Generate change report.\n",
      "ValueError: column names ['timestamp', 'module', 'level', 'status', 'model', 'pathway', 'year', 'dataset', 'region', 'technosphere scaling factor', 'biosphere scaling factor', 'old efficiency', 'new efficiency'] not found in /Users/romain/GitHub/hydrogen-prospective-scenarios/tests/export/logs/premise_external_scenarios.log.Instead, found: Int64Index([0, 1, 2, 3, 4, 5, 6, 7, 8], dtype='int64')\n",
      "Report saved under /Users/romain/GitHub/hydrogen-prospective-scenarios/tests.\n"
     ]
    }
   ],
   "source": [
    "ndb.write_superstructure_db_to_brightway()"
   ]
  },
  {
   "cell_type": "code",
   "execution_count": null,
   "id": "c67e1579-3cf6-428e-8307-41cbad4b2e61",
   "metadata": {},
   "outputs": [],
   "source": []
  }
 ],
 "metadata": {
  "kernelspec": {
   "display_name": "Python 3 (ipykernel)",
   "language": "python",
   "name": "python3"
  },
  "language_info": {
   "codemirror_mode": {
    "name": "ipython",
    "version": 3
   },
   "file_extension": ".py",
   "mimetype": "text/x-python",
   "name": "python",
   "nbconvert_exporter": "python",
   "pygments_lexer": "ipython3",
   "version": "3.11.8"
  }
 },
 "nbformat": 4,
 "nbformat_minor": 5
}
