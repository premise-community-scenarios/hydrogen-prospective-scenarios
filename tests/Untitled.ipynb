{
 "cells": [
  {
   "cell_type": "code",
   "execution_count": 7,
   "id": "dca24caf-35fc-4358-b5f4-3191a5d63f81",
   "metadata": {},
   "outputs": [],
   "source": [
    "from premise import *\n",
    "import bw2data\n",
    "from datapackage import Package"
   ]
  },
  {
   "cell_type": "code",
   "execution_count": 8,
   "id": "b361ec2f-6b43-40a9-8b4c-3ec96322f750",
   "metadata": {},
   "outputs": [],
   "source": [
    "bw2data.projects.set_current(\"ei39\")"
   ]
  },
  {
   "cell_type": "code",
   "execution_count": 12,
   "id": "44be565a-8e58-4916-aad0-d2b409212e58",
   "metadata": {},
   "outputs": [],
   "source": [
    "fp = \"../datapackage.json\"\n",
    "# read the data package\n",
    "h2 = Package(fp)"
   ]
  },
  {
   "cell_type": "code",
   "execution_count": 13,
   "id": "5aab7adb-b252-4ffc-85f8-4f71571a47e3",
   "metadata": {},
   "outputs": [
    {
     "name": "stdout",
     "output_type": "stream",
     "text": [
      "premise v.(1, 8, 2, 'dev3')\n",
      "+------------------------------------------------------------------+\n",
      "| Warning                                                          |\n",
      "+------------------------------------------------------------------+\n",
      "| Because some of the scenarios can yield LCI databases            |\n",
      "| containing net negative emission technologies (NET),             |\n",
      "| it is advised to account for biogenic CO2 flows when calculating |\n",
      "| Global Warming potential indicators.                             |\n",
      "| `premise_gwp` provides characterization factors for such flows.  |\n",
      "| It also provides factors for hydrogen emissions to air.          |\n",
      "|                                                                  |\n",
      "| Within your bw2 project:                                         |\n",
      "| from premise_gwp import add_premise_gwp                          |\n",
      "| add_premise_gwp()                                                |\n",
      "+------------------------------------------------------------------+\n",
      "+--------------------------------+----------------------------------+\n",
      "| Utils functions                | Description                      |\n",
      "+--------------------------------+----------------------------------+\n",
      "| clear_cache()                  | Clears the cache folder. Useful  |\n",
      "|                                | when updating `premise`or        |\n",
      "|                                | encountering issues with         |\n",
      "|                                | inventories.                     |\n",
      "+--------------------------------+----------------------------------+\n",
      "| get_regions_definition(model)  | Retrieves the list of countries  |\n",
      "|                                | for each region of the model.    |\n",
      "+--------------------------------+----------------------------------+\n",
      "| ndb.NewDatabase(...)           | Generates a summary of the most  |\n",
      "| ndb.generate_scenario_report() | important scenarios' variables.  |\n",
      "+--------------------------------+----------------------------------+\n",
      "Keep uncertainty data?\n",
      "NewDatabase(..., keep_uncertainty_data=True)\n",
      "\n",
      "Disable multiprocessing?\n",
      "NewDatabase(..., use_multiprocessing=False)\n",
      "\n",
      "Hide these messages?\n",
      "NewDatabase(..., quiet=True)\n",
      "\n",
      "//////////////////// EXTRACTING SOURCE DATABASE ////////////////////\n",
      "Done!\n",
      "\n",
      "////////////////// IMPORTING DEFAULT INVENTORIES ///////////////////\n",
      "Done!\n",
      "\n",
      "/////////////////////// EXTRACTING IAM DATA ////////////////////////\n",
      "Done!\n"
     ]
    }
   ],
   "source": [
    "ndb = NewDatabase(\n",
    "    scenarios = [\n",
    "            {\"model\":\"remind\", \"pathway\":\"SSP2-NDC\", \"year\":2020},\n",
    "                ],        \n",
    "    source_db=\"ecoinvent 3.9.1 cutoff\",\n",
    "    source_version=\"3.9\",\n",
    "    key='tUePmX_S5B8ieZkkM7WUU2CnO8SmShwmAeWK9x2rTFo=',\n",
    "    external_scenarios=[\n",
    "        h2 # <- insert the data package here\n",
    "    ]    \n",
    ")"
   ]
  },
  {
   "cell_type": "code",
   "execution_count": 14,
   "id": "570e9749-d74d-4cbb-8f8f-9c65aed69e1f",
   "metadata": {},
   "outputs": [
    {
     "name": "stdout",
     "output_type": "stream",
     "text": [
      "\n",
      "//////////////// IMPORTING USER-DEFINED INVENTORIES ////////////////\n",
      "Extracted 1 worksheets in 0.24 seconds\n",
      "Create custom markets.\n",
      "Log file of exchanges saved under /Users/romain/GitHub/premise/premise/data/logs.\n",
      "Done!\n",
      "\n"
     ]
    }
   ],
   "source": [
    "ndb.update_external_scenario()"
   ]
  },
  {
   "cell_type": "code",
   "execution_count": 15,
   "id": "65e0b5e2-d6e3-48d6-be61-0bcd57d87948",
   "metadata": {},
   "outputs": [
    {
     "name": "stdout",
     "output_type": "stream",
     "text": [
      "Write new database(s) to Brightway.\n",
      "Running all checks...\n"
     ]
    },
    {
     "name": "stderr",
     "output_type": "stream",
     "text": [
      "Writing activities to SQLite3 database:\n",
      "0% [##############################] 100% | ETA: 00:00:00\n",
      "Total time elapsed: 00:00:21\n"
     ]
    },
    {
     "name": "stdout",
     "output_type": "stream",
     "text": [
      "Title: Writing activities to SQLite3 database:\n",
      "  Started: 01/19/2024 08:33:06\n",
      "  Finished: 01/19/2024 08:33:28\n",
      "  Total time elapsed: 00:00:21\n",
      "  CPU %: 95.80\n",
      "  Memory %: 17.24\n",
      "Created database: shijie test 1\n",
      "Generate scenario report.\n",
      "Report saved under /Users/romain/GitHub/hydrogen-prospective-scenarios/tests/export/scenario_report.\n",
      "Generate change report.\n",
      "Report saved under /Users/romain/GitHub/hydrogen-prospective-scenarios/tests.\n"
     ]
    }
   ],
   "source": [
    "ndb.write_db_to_brightway(\"shijie test 1\")"
   ]
  },
  {
   "cell_type": "code",
   "execution_count": null,
   "id": "c67e1579-3cf6-428e-8307-41cbad4b2e61",
   "metadata": {},
   "outputs": [],
   "source": []
  }
 ],
 "metadata": {
  "kernelspec": {
   "display_name": "Python 3 (ipykernel)",
   "language": "python",
   "name": "python3"
  },
  "language_info": {
   "codemirror_mode": {
    "name": "ipython",
    "version": 3
   },
   "file_extension": ".py",
   "mimetype": "text/x-python",
   "name": "python",
   "nbconvert_exporter": "python",
   "pygments_lexer": "ipython3",
   "version": "3.10.13"
  }
 },
 "nbformat": 4,
 "nbformat_minor": 5
}
